{
  "nbformat": 4,
  "nbformat_minor": 0,
  "metadata": {
    "colab": {
      "name": "FirstBert_PieChart.ipynb",
      "provenance": [],
      "collapsed_sections": []
    },
    "kernelspec": {
      "display_name": "Python 3",
      "name": "python3"
    },
    "language_info": {
      "name": "python"
    }
  },
  "cells": [
    {
      "cell_type": "code",
      "metadata": {
        "id": "oyDu8oQMDRJs"
      },
      "source": [
        "pip install chart-studio"
      ],
      "execution_count": null,
      "outputs": []
    },
    {
      "cell_type": "code",
      "metadata": {
        "id": "wEwjkLi8DOma"
      },
      "source": [
        "import numpy as np \n",
        "import pandas as pd"
      ],
      "execution_count": null,
      "outputs": []
    },
    {
      "cell_type": "code",
      "metadata": {
        "colab": {
          "base_uri": "https://localhost:8080/"
        },
        "id": "adzc-kW3HygY",
        "outputId": "0030e415-1ece-4b4e-9ed5-572ec2cf9f37"
      },
      "source": [
        "from google.colab import drive\n",
        "drive.mount('/content/drive')"
      ],
      "execution_count": null,
      "outputs": [
        {
          "output_type": "stream",
          "name": "stdout",
          "text": [
            "Drive already mounted at /content/drive; to attempt to forcibly remount, call drive.mount(\"/content/drive\", force_remount=True).\n"
          ]
        }
      ]
    },
    {
      "cell_type": "code",
      "metadata": {
        "colab": {
          "base_uri": "https://localhost:8080/"
        },
        "id": "tJVZRcptSgc7",
        "outputId": "f08b9d1d-e614-4308-984f-6264cd546a26"
      },
      "source": [
        "chart_data = pd.read_csv(\"/content/drive/MyDrive/HateSpeechDataSet/data_huang_devansh.csv\")\n",
        "df_chart_data_1 = chart_data[chart_data['Label']==1]\n",
        "df_chart_data_0 = chart_data[chart_data['Label']==0]\n",
        "print(df_chart_data_1)\n",
        "print(df_chart_data_0)\n",
        "\n",
        "df_500 =  chart_data.loc[chart_data['Content'].str.len() < 500]"
      ],
      "execution_count": null,
      "outputs": [
        {
          "output_type": "stream",
          "name": "stdout",
          "text": [
            "                                                  Content  Label\n",
            "52      `  :Click on my ``Annoying Users`` link! I gue...      1\n",
            "60              Iraq is not good  ===  ===  USA is bad         1\n",
            "121     `  Buddha - ``Some suggest that victims should...      1\n",
            "207       ____ fuck off you little asshole. If you wan...      1\n",
            "351          i have a dick, its bigger than yours! hahaha      1\n",
            "...                                                   ...    ...\n",
            "842316  \"Another dumb comment. Put America first befor...      1\n",
            "842317  \"Go use google simpleton, that's how the word ...      1\n",
            "842325  \"Obviously the comic books you read have done ...      1\n",
            "842328  \"Give up jamal jrk off, I would never possibly...      1\n",
            "842333  \"Leave your email or phone number and maybe yo...      1\n",
            "\n",
            "[133694 rows x 2 columns]\n",
            "                                                  Content  Label\n",
            "0       `- This is not ``creative``.  Those are the di...      0\n",
            "1       `  :: the term ``standard model`` is itself le...      0\n",
            "2         True or false, the situation as of March 200...      0\n",
            "3        Next, maybe you could work on being less cond...      0\n",
            "4                    This page will need disambiguation.       0\n",
            "...                                                   ...    ...\n",
            "842329  \"Soon we will all be pledging allegiance to th...      0\n",
            "842330  \"Never really gave it much thought. I just fig...      0\n",
            "842331                 \"Nadie se salva de la regla 34 xd\"      0\n",
            "842332               \"Question: Are you a boy or a girl?\"      0\n",
            "842334  \"From the scenarios you present, I see you bel...      0\n",
            "\n",
            "[708641 rows x 2 columns]\n"
          ]
        }
      ]
    },
    {
      "cell_type": "code",
      "metadata": {
        "colab": {
          "base_uri": "https://localhost:8080/",
          "height": 248
        },
        "id": "C-DP89BGVZkL",
        "outputId": "d4ae1605-de8d-4425-a670-19df4ed483b9"
      },
      "source": [
        "import matplotlib.pyplot as plt\n",
        "\n",
        "labels = 'HateSpeech', 'Normol word'\n",
        "# we need to change the value at here\n",
        "sizes = [133694, 708641]\n",
        "\n",
        "# configure the distand between two parts in pie chart\n",
        "explode = (0, 0.1) \n",
        "\n",
        "plt.pie(sizes, explode=explode, labels=labels, autopct='%1.1f%%',\n",
        "        shadow=True, startangle=90)\n",
        "\n",
        "# Equal aspect ratio \n",
        "plt.axis('equal') \n",
        "\n",
        "plt.show()"
      ],
      "execution_count": null,
      "outputs": [
        {
          "output_type": "display_data",
          "data": {
            "image/png": "[encoded data removed]",
            "text/plain": [
              "<Figure size 432x288 with 1 Axes>"
            ]
          },
          "metadata": {}
        }
      ]
    },
    {
      "cell_type": "code",
      "metadata": {
        "id": "MNJRA10AYHub"
      },
      "source": [
        "import matplotlib.pyplot as plt\n",
        "\n",
        "list_length = []\n",
        "list_length_1000 = []\n",
        "list_length_500 = []\n",
        "sentence = chart_data['Content']\n",
        "#842334\n",
        "for i in range(0,1000):\n",
        "  sentence_temp = sentence[i]\n",
        "  word_list = sentence_temp.split(' ')\n",
        "  len_temp = len(word_list)\n",
        "  if(len_temp > 500):\n",
        "    list_length_1000.append(len_temp)\n",
        "  else:\n",
        "    list_length_500.append(len_temp) \n",
        "\n",
        "#plt.bar(range(len(list_length)),list_length)\n",
        "\n",
        "#plt.show()"
      ],
      "execution_count": null,
      "outputs": []
    },
    {
      "cell_type": "code",
      "metadata": {
        "colab": {
          "base_uri": "https://localhost:8080/",
          "height": 256
        },
        "id": "QORQkTONdLUi",
        "outputId": "9c05f48f-4d40-439d-fa4c-bc42a3482978"
      },
      "source": [
        "labels = 'long scentence above 500 words', 'Normol scentenc below 500 words'\n",
        "sizes = [len(list_length_1000), len(list_length_500)]\n",
        "\n",
        "# configure the distand between two parts in pie chart\n",
        "explode = (0, 0.1) \n",
        "\n",
        "plt.pie(sizes, explode=explode, labels=labels, autopct='%1.1f%%',\n",
        "        shadow=True, startangle=90)\n",
        "\n",
        "# Equal aspect ratio \n",
        "plt.axis('equal') \n",
        "\n",
        "plt.show()"
      ],
      "execution_count": null,
      "outputs": [
        {
          "output_type": "display_data",
          "data": {
            "image/png": "[encoded data removed]",
            "text/plain": [
              "<Figure size 432x288 with 1 Axes>"
            ]
          },
          "metadata": {}
        }
      ]
    },
    {
      "cell_type": "code",
      "metadata": {
        "colab": {
          "base_uri": "https://localhost:8080/"
        },
        "id": "bvml7YH1lSXz",
        "outputId": "c3bdbee2-0906-4efb-ab5b-e7d4448f7ff2"
      },
      "source": [
        "!pip install transformers\n",
        "import numpy as np\n",
        "import pandas as pd\n",
        "from sklearn.model_selection import train_test_split\n",
        "from sklearn.linear_model import LogisticRegression\n",
        "from sklearn.model_selection import GridSearchCV\n",
        "from sklearn.model_selection import cross_val_score\n",
        "import torch\n",
        "import transformers as ppb\n",
        "import warnings\n",
        "warnings.filterwarnings('ignore')"
      ],
      "execution_count": null,
      "outputs": [
        {
          "output_type": "stream",
          "name": "stdout",
          "text": [
            "Requirement already satisfied: transformers in /usr/local/lib/python3.7/dist-packages (4.12.5)\n",
            "Requirement already satisfied: sacremoses in /usr/local/lib/python3.7/dist-packages (from transformers) (0.0.46)\n",
            "Requirement already satisfied: filelock in /usr/local/lib/python3.7/dist-packages (from transformers) (3.4.0)\n",
            "Requirement already satisfied: numpy>=1.17 in /usr/local/lib/python3.7/dist-packages (from transformers) (1.19.5)\n",
            "Requirement already satisfied: packaging>=20.0 in /usr/local/lib/python3.7/dist-packages (from transformers) (21.3)\n",
            "Requirement already satisfied: tokenizers<0.11,>=0.10.1 in /usr/local/lib/python3.7/dist-packages (from transformers) (0.10.3)\n",
            "Requirement already satisfied: importlib-metadata in /usr/local/lib/python3.7/dist-packages (from transformers) (4.8.2)\n",
            "Requirement already satisfied: regex!=2019.12.17 in /usr/local/lib/python3.7/dist-packages (from transformers) (2019.12.20)\n",
            "Requirement already satisfied: tqdm>=4.27 in /usr/local/lib/python3.7/dist-packages (from transformers) (4.62.3)\n",
            "Requirement already satisfied: requests in /usr/local/lib/python3.7/dist-packages (from transformers) (2.23.0)\n",
            "Requirement already satisfied: huggingface-hub<1.0,>=0.1.0 in /usr/local/lib/python3.7/dist-packages (from transformers) (0.2.1)\n",
            "Requirement already satisfied: pyyaml>=5.1 in /usr/local/lib/python3.7/dist-packages (from transformers) (6.0)\n",
            "Requirement already satisfied: typing-extensions>=3.7.4.3 in /usr/local/lib/python3.7/dist-packages (from huggingface-hub<1.0,>=0.1.0->transformers) (3.10.0.2)\n",
            "Requirement already satisfied: pyparsing!=3.0.5,>=2.0.2 in /usr/local/lib/python3.7/dist-packages (from packaging>=20.0->transformers) (3.0.6)\n",
            "Requirement already satisfied: zipp>=0.5 in /usr/local/lib/python3.7/dist-packages (from importlib-metadata->transformers) (3.6.0)\n",
            "Requirement already satisfied: idna<3,>=2.5 in /usr/local/lib/python3.7/dist-packages (from requests->transformers) (2.10)\n",
            "Requirement already satisfied: urllib3!=1.25.0,!=1.25.1,<1.26,>=1.21.1 in /usr/local/lib/python3.7/dist-packages (from requests->transformers) (1.24.3)\n",
            "Requirement already satisfied: certifi>=2017.4.17 in /usr/local/lib/python3.7/dist-packages (from requests->transformers) (2021.10.8)\n",
            "Requirement already satisfied: chardet<4,>=3.0.2 in /usr/local/lib/python3.7/dist-packages (from requests->transformers) (3.0.4)\n",
            "Requirement already satisfied: click in /usr/local/lib/python3.7/dist-packages (from sacremoses->transformers) (7.1.2)\n",
            "Requirement already satisfied: joblib in /usr/local/lib/python3.7/dist-packages (from sacremoses->transformers) (1.1.0)\n",
            "Requirement already satisfied: six in /usr/local/lib/python3.7/dist-packages (from sacremoses->transformers) (1.15.0)\n"
          ]
        }
      ]
    },
    {
      "cell_type": "code",
      "metadata": {
        "colab": {
          "base_uri": "https://localhost:8080/"
        },
        "id": "uy_JGPdAlvxG",
        "outputId": "e65864bc-276c-473e-a703-c2c294332b24"
      },
      "source": [
        "#df = pd.read_csv('/content/drive/MyDrive/HateSpeechDataSet/data_huang_devansh.csv')\n",
        "#df_500 =  chart_data.loc[chart_data['Content'].str.len() < 500]\n",
        "df= df_500\n",
        "batch_1 = df[:100]\n",
        "\n",
        "\n",
        "# For DistilBERT:\n",
        "model_class, tokenizer_class, pretrained_weights = (ppb.DistilBertModel, ppb.DistilBertTokenizer, 'distilbert-base-uncased')\n",
        "\n",
        "# Load pretrained model/tokenizer\n",
        "tokenizer = tokenizer_class.from_pretrained(pretrained_weights)\n",
        "model = model_class.from_pretrained(pretrained_weights)"
      ],
      "execution_count": null,
      "outputs": [
        {
          "output_type": "stream",
          "name": "stderr",
          "text": [
            "Some weights of the model checkpoint at distilbert-base-uncased were not used when initializing DistilBertModel: ['vocab_layer_norm.weight', 'vocab_projector.bias', 'vocab_layer_norm.bias', 'vocab_projector.weight', 'vocab_transform.bias', 'vocab_transform.weight']\n",
            "- This IS expected if you are initializing DistilBertModel from the checkpoint of a model trained on another task or with another architecture (e.g. initializing a BertForSequenceClassification model from a BertForPreTraining model).\n",
            "- This IS NOT expected if you are initializing DistilBertModel from the checkpoint of a model that you expect to be exactly identical (initializing a BertForSequenceClassification model from a BertForSequenceClassification model).\n"
          ]
        }
      ]
    },
    {
      "cell_type": "code",
      "metadata": {
        "colab": {
          "base_uri": "https://localhost:8080/"
        },
        "id": "ziPkXe_1mWXq",
        "outputId": "6a9b53e8-0010-429a-9557-6031b691d0e9"
      },
      "source": [
        "tokenized = batch_1['Content'].apply((lambda x: tokenizer.encode(x, add_special_tokens=True)))\n",
        "\n",
        "#Padding\n",
        "max_len = 0\n",
        "for i in tokenized.values:\n",
        "    if len(i) > max_len:\n",
        "        max_len = len(i)\n",
        "\n",
        "padded = np.array([i + [0]*(max_len-len(i)) for i in tokenized.values])\n",
        "attention_mask = np.where(padded != 0, 1, 0)\n",
        "attention_mask.shape"
      ],
      "execution_count": null,
      "outputs": [
        {
          "output_type": "execute_result",
          "data": {
            "text/plain": [
              "(100, 144)"
            ]
          },
          "metadata": {},
          "execution_count": 10
        }
      ]
    },
    {
      "cell_type": "code",
      "metadata": {
        "id": "X4vCsMA4nRqo"
      },
      "source": [
        "#model The model() function runs our sentences through BERT. The results of the processing will be returned into last_hidden_states.\n",
        "input_ids = torch.tensor(padded)  \n",
        "attention_mask = torch.tensor(attention_mask)\n",
        "\n",
        "with torch.no_grad():\n",
        "    last_hidden_states = model(input_ids, attention_mask=attention_mask)"
      ],
      "execution_count": null,
      "outputs": []
    },
    {
      "cell_type": "code",
      "metadata": {
        "colab": {
          "base_uri": "https://localhost:8080/"
        },
        "id": "kHynqTtQtIQg",
        "outputId": "38e2b67a-0e2d-4e23-bc1d-6ad5ee9fddf5"
      },
      "source": [
        "features = last_hidden_states[0][:,0,:].numpy()\n",
        "labels = batch_1['Label']\n",
        "print(features) #t"
      ],
      "execution_count": null,
      "outputs": [
        {
          "output_type": "stream",
          "name": "stdout",
          "text": [
            "[[-0.11208873 -0.16358626 -0.5881236  ... -0.29206696  0.2568072\n",
            "   0.45991987]\n",
            " [ 0.08861615  0.01957215 -0.1956819  ...  0.01351093  0.41821492\n",
            "   0.39396685]\n",
            " [-0.23381926 -0.15816206 -0.09679752 ... -0.13558838  0.20720775\n",
            "   0.5391102 ]\n",
            " ...\n",
            " [-0.14453968 -0.09357478 -0.34548452 ... -0.19698693  0.3951936\n",
            "   0.36933017]\n",
            " [-0.22326484 -0.01469117 -0.19102502 ... -0.08932787  0.18744636\n",
            "   0.70028013]\n",
            " [ 0.19124754 -0.02844679 -0.23503116 ...  0.09766092  0.44509286\n",
            "   0.43562305]]\n"
          ]
        }
      ]
    }
  ]
}